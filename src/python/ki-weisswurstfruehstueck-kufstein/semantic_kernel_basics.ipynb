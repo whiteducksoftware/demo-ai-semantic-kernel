{
 "cells": [
  {
   "cell_type": "markdown",
   "metadata": {},
   "source": [
    "# Semantic Kernel with Azure OpenAI ⚡\n",
    "\n",
    "This notebook is a simple demonstration of how to use the [Semantic Kernel](https://learn.microsoft.com/semantic-kernel/overview/?WT.mc_id=AZ-MVP-5003203) with [Azure OpenAI](https://azure.microsoft.com/products/ai-services/openai-service?WT.mc_id=AZ-MVP-5003203). \n",
    "\n",
    "## Install requirements\n",
    "Make sure you have configured the necessary settings for the Azure OpenAI Connector. See the [documentation](https://github.com/microsoft/semantic-kernel/blob/main/python/README.md#openai--azure-openai-api-keys).\n",
    "\n",
    "We only need to install the Semantic Kernel SDK from pypi.org"
   ]
  },
  {
   "cell_type": "code",
   "execution_count": null,
   "metadata": {},
   "outputs": [],
   "source": [
    "%pip install semantic-kernel"
   ]
  },
  {
   "cell_type": "markdown",
   "metadata": {},
   "source": [
    "## Initialize the Kernel"
   ]
  },
  {
   "cell_type": "code",
   "execution_count": null,
   "metadata": {},
   "outputs": [],
   "source": [
    "from semantic_kernel import Kernel\n",
    "from semantic_kernel.connectors.ai.open_ai import AzureChatCompletion\n",
    "\n",
    "kernel = Kernel()\n",
    "service_id=\"chat-gpt\"\n",
    "\n",
    "kernel.add_service(\n",
    "  AzureChatCompletion(\n",
    "      service_id=service_id,\n",
    "  )\n",
    ")"
   ]
  },
  {
   "cell_type": "markdown",
   "metadata": {},
   "source": [
    "## Add Plugins\n",
    "The following script will add all plugins from the `plugins_directory` to the kernel:"
   ]
  },
  {
   "cell_type": "code",
   "execution_count": null,
   "metadata": {},
   "outputs": [],
   "source": [
    "plugins_directory = \"Plugins\"\n",
    "kubernetesPlugin = kernel.add_plugin(parent_directory=plugins_directory, plugin_name=\"KubernetesPlugin\")"
   ]
  },
  {
   "cell_type": "markdown",
   "metadata": {},
   "source": [
    "## Run the KubectlPrompt Plugin "
   ]
  },
  {
   "cell_type": "code",
   "execution_count": null,
   "metadata": {},
   "outputs": [],
   "source": [
    "result = await kernel.invoke(kubernetesPlugin[\"KubectlPrompt\"], input=\"list all namespace\")\n",
    "print(result)"
   ]
  },
  {
   "cell_type": "markdown",
   "metadata": {},
   "source": [
    "## Run the KubeMatch Plugin"
   ]
  },
  {
   "cell_type": "code",
   "execution_count": null,
   "metadata": {},
   "outputs": [],
   "source": [
    "goodFit=\"\"\"\n",
    "This project involves developing a high-traffic e-commerce platform that expects dynamic scaling and high availability to handle seasonal peaks in user traffic. \n",
    "The architecture is based on microservices, each responsible for different aspects such as user authentication, product catalog, and payment processing. \n",
    "The team is experienced in containerized environments and requires a solution that allows for efficient deployment, scaling, and management of services, with robust orchestration capabilities.\n",
    "\"\"\"\n",
    "\n",
    "result = await kernel.invoke(kubernetesPlugin[\"KubeMatch\"], input=goodFit)\n",
    "print(result)"
   ]
  },
  {
   "cell_type": "code",
   "execution_count": null,
   "metadata": {},
   "outputs": [],
   "source": [
    "\n",
    "badFit=\"\"\"\n",
    "This project is a small-scale internal tool for automating office inventory management, expected to have a stable and predictable load with minimal scalability requirements. \n",
    "The application is built with a simple, monolithic architecture and will be deployed on a few servers. \n",
    "The team lacks experience with containerization and Kubernetes, and the simplicity of the project does not justify the overhead and complexity of implementing a Kubernetes environment.\n",
    "\"\"\"\n",
    "\n",
    "result = await kernel.invoke(kubernetesPlugin[\"KubeMatch\"], input=badFit)\n",
    "print(result)"
   ]
  },
  {
   "cell_type": "markdown",
   "metadata": {},
   "source": [
    "## Add native code as a plugin\n",
    "The plugin described below allows us to **execute kubectl** commands."
   ]
  },
  {
   "cell_type": "code",
   "execution_count": null,
   "metadata": {},
   "outputs": [],
   "source": [
    "import subprocess\n",
    "\n",
    "from semantic_kernel.functions import kernel_function\n",
    "\n",
    "class ExecuteKubectlPlugin:\n",
    "    \"\"\"\n",
    "    Description: This plugin is used to execute kubectl commands\n",
    "    \"\"\"\n",
    "\n",
    "    @kernel_function(\n",
    "        description=\"Execute kubectl command\",\n",
    "        name=\"ExecuteKubectl\",\n",
    "    )\n",
    "    def execute_kubectl_command (self, input: str) -> str:\n",
    "        \"\"\"\n",
    "        Execute kubectl command\n",
    "        \"\"\"\n",
    "        try:\n",
    "            command = input.replace(\"kubectl\", \"\").strip() # remove kubectl from the input\n",
    "            result = subprocess.run(['kubectl'] + command.split(), capture_output=True, text=True, check=True)\n",
    "\n",
    "            print(result.stdout)\n",
    "        except subprocess.CalledProcessError as e:\n",
    "            print(f\"Error executing kubectl command: {e}\")\n"
   ]
  },
  {
   "cell_type": "markdown",
   "metadata": {},
   "source": [
    "### Add the native plugin to the kernel"
   ]
  },
  {
   "cell_type": "code",
   "execution_count": null,
   "metadata": {},
   "outputs": [],
   "source": [
    "execute_kubectl_plugin = kernel.add_plugin(plugin=ExecuteKubectlPlugin(), plugin_name=\"ExecuteKubectlPlugin\")"
   ]
  },
  {
   "cell_type": "code",
   "execution_count": null,
   "metadata": {},
   "outputs": [],
   "source": [
    "execute_kubectl_fnc = execute_kubectl_plugin[\"ExecuteKubectl\"]\n",
    "kubectl_output = await execute_kubectl_fnc(kernel,input=\"kubectl cluster-info\")\n",
    "print(kubectl_output)\n"
   ]
  },
  {
   "cell_type": "markdown",
   "metadata": {},
   "source": [
    "## Using the Planner 🪄"
   ]
  },
  {
   "cell_type": "code",
   "execution_count": null,
   "metadata": {},
   "outputs": [],
   "source": [
    "from semantic_kernel.planners.function_calling_stepwise_planner import (\n",
    "    FunctionCallingStepwisePlanner,\n",
    "    FunctionCallingStepwisePlannerOptions,\n",
    ")\n",
    "\n",
    "question = \"list all namepsaces\"\n",
    "\n",
    "options = FunctionCallingStepwisePlannerOptions(\n",
    "    max_iterations=10,\n",
    "    max_tokens=4000,\n",
    ")\n",
    "\n",
    "planner = FunctionCallingStepwisePlanner(service_id=service_id, options=options)\n",
    "result = await planner.invoke(kernel, question)"
   ]
  },
  {
   "cell_type": "markdown",
   "metadata": {},
   "source": [
    "### Print the plan"
   ]
  },
  {
   "cell_type": "code",
   "execution_count": null,
   "metadata": {},
   "outputs": [],
   "source": [
    "print(f\"Chat history: {result.chat_history}\\n\")"
   ]
  }
 ],
 "metadata": {
  "kernelspec": {
   "display_name": "Python 3",
   "language": "python",
   "name": "python3"
  },
  "language_info": {
   "codemirror_mode": {
    "name": "ipython",
    "version": 3
   },
   "file_extension": ".py",
   "mimetype": "text/x-python",
   "name": "python",
   "nbconvert_exporter": "python",
   "pygments_lexer": "ipython3",
   "version": "3.12.2"
  }
 },
 "nbformat": 4,
 "nbformat_minor": 2
}
